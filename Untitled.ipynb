{
 "cells": [
  {
   "cell_type": "code",
   "execution_count": null,
   "metadata": {
    "jupyter": {
     "source_hidden": true
    }
   },
   "outputs": [],
   "source": []
  },
  {
   "cell_type": "code",
   "execution_count": 30,
   "metadata": {},
   "outputs": [],
   "source": [
    "import numpy as np\n",
    "import pandas as pd\n",
    "import matplotlib.pyplot as plt\n",
    "from PIL import Image"
   ]
  },
  {
   "cell_type": "code",
   "execution_count": 31,
   "metadata": {},
   "outputs": [],
   "source": [
    "from chainer.datasets import LabeledImageDataset\n",
    "from chainercv.transforms import resize\n",
    "from chainer.datasets import TransformDataset"
   ]
  },
  {
   "cell_type": "code",
   "execution_count": 32,
   "metadata": {},
   "outputs": [],
   "source": [
    "def transform(in_data):\n",
    "    img, label = in_data\n",
    "    img = resize(img, (224, 224))\n",
    "    return img, label"
   ]
  },
  {
   "cell_type": "code",
   "execution_count": 33,
   "metadata": {},
   "outputs": [],
   "source": [
    "train = LabeledImageDataset('data/train/train_label.txt', 'data/train/images/')\n",
    "train = TransformDataset(train, transform)\n",
    "\n",
    "valid = LabeledImageDataset('data/valid/valid_label.txt', 'data/valid/images/')\n",
    "valid = TransformDataset(valid, transform)\n",
    "\n"
   ]
  },
  {
   "cell_type": "code",
   "execution_count": 34,
   "metadata": {},
   "outputs": [],
   "source": [
    "import chainer\n",
    "import chainer.links as L\n",
    "import chainer.functions as F"
   ]
  },
  {
   "cell_type": "code",
   "execution_count": 35,
   "metadata": {},
   "outputs": [],
   "source": [
    "class CNN(chainer.Chain):\n",
    "    def __init__(self, n_mid_units1=224, n_out=2):\n",
    "        super().__init__()\n",
    "        with self.init_scope():\n",
    "            self.conv = L.Convolution2D(None, 3, ksize=3, pad=1)\n",
    "            self.fc1 = L.Linear(None, n_mid_units1)\n",
    "            self.fc2 = L.Linear(None, n_out)\n",
    "            \n",
    "    def __call__(self, x):\n",
    "        h = self.conv(x)\n",
    "        h = self.fc1(h)\n",
    "        h = F.relu(h)\n",
    "        h = self.fc2(h)\n",
    "        \n",
    "        return h"
   ]
  },
  {
   "cell_type": "code",
   "execution_count": 36,
   "metadata": {},
   "outputs": [],
   "source": [
    "nn = CNN()\n",
    "model = L.Classifier(nn)"
   ]
  },
  {
   "cell_type": "code",
   "execution_count": 37,
   "metadata": {},
   "outputs": [],
   "source": [
    "from chainer import training \n",
    "from chainer.training import extensions"
   ]
  },
  {
   "cell_type": "markdown",
   "metadata": {},
   "source": [
    "chainerで選択できるモデル一覧\n",
    "https://docs.chainer.org/en/stable/reference/optimizers.html"
   ]
  },
  {
   "cell_type": "code",
   "execution_count": 38,
   "metadata": {},
   "outputs": [
    {
     "data": {
      "text/plain": [
       "<chainer.optimizers.adam.Adam at 0x1289875d0>"
      ]
     },
     "execution_count": 38,
     "metadata": {},
     "output_type": "execute_result"
    }
   ],
   "source": [
    "optimizer = chainer.optimizers.Adam()\n",
    "optimizer.setup(model)"
   ]
  },
  {
   "cell_type": "code",
   "execution_count": 39,
   "metadata": {},
   "outputs": [],
   "source": [
    "batchsize = 5\n",
    "train_iter = chainer.iterators.SerialIterator(train, batchsize)\n",
    "valid_iter = chainer.iterators.SerialIterator(valid, batchsize, repeat=False,shuffle=False)\n",
    "updater = training.StandardUpdater(train_iter, optimizer)\n"
   ]
  },
  {
   "cell_type": "code",
   "execution_count": 40,
   "metadata": {},
   "outputs": [],
   "source": [
    "epoch = 5\n",
    "\n",
    "trainer = training.Trainer(updater, (epoch, 'epoch'), out='result')\n",
    "trainer.extend(extensions.Evaluator(valid_iter, model, device=-1))\n",
    "\n",
    "trainer.extend(extensions.LogReport(trigger=(1, 'epoch')))\n",
    "trainer.extend(extensions.PrintReport(['epoch', 'main/accuracy', 'validation/main/accuracy','main/loss','validation/main/loss','elapsed_time']), trigger=(1,'epoch'))\n"
   ]
  },
  {
   "cell_type": "code",
   "execution_count": 41,
   "metadata": {},
   "outputs": [
    {
     "name": "stdout",
     "output_type": "stream",
     "text": [
      "epoch       main/accuracy  validation/main/accuracy  main/loss   validation/main/loss  elapsed_time\n",
      "\u001b[J1           0.44           0.47                      8710.35     383.876               21.0195       \n",
      "\u001b[J2           0.54           0.5                       1026.77     611.556               40.6399       \n",
      "\u001b[J3           0.59           0.51                      368.821     661.006               60.3046       \n",
      "\u001b[J4           0.8            0.5                       172.703     292.885               79.5584       \n",
      "\u001b[J5           0.81           0.68                      54.5336     113.14                97.6716       \n"
     ]
    }
   ],
   "source": [
    "trainer.run()"
   ]
  },
  {
   "cell_type": "code",
   "execution_count": null,
   "metadata": {},
   "outputs": [],
   "source": []
  },
  {
   "cell_type": "code",
   "execution_count": null,
   "metadata": {},
   "outputs": [],
   "source": []
  },
  {
   "cell_type": "code",
   "execution_count": null,
   "metadata": {},
   "outputs": [],
   "source": []
  },
  {
   "cell_type": "code",
   "execution_count": null,
   "metadata": {},
   "outputs": [],
   "source": []
  }
 ],
 "metadata": {
  "kernelspec": {
   "display_name": "Python 3",
   "language": "python",
   "name": "python3"
  },
  "language_info": {
   "codemirror_mode": {
    "name": "ipython",
    "version": 3
   },
   "file_extension": ".py",
   "mimetype": "text/x-python",
   "name": "python",
   "nbconvert_exporter": "python",
   "pygments_lexer": "ipython3",
   "version": "3.7.5"
  }
 },
 "nbformat": 4,
 "nbformat_minor": 4
}
